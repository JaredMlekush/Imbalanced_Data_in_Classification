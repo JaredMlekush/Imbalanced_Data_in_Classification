{
 "cells": [
  {
   "cell_type": "markdown",
   "id": "ded31484",
   "metadata": {},
   "source": [
    "# Jared Mlekush"
   ]
  },
  {
   "cell_type": "markdown",
   "id": "d46429e3",
   "metadata": {},
   "source": [
    "## <i>Imbalanced Data in Classification</i>"
   ]
  },
  {
   "cell_type": "markdown",
   "id": "7215e4fc",
   "metadata": {},
   "source": [
    "<b>What is Imbalanced Data?</b>\n",
    " - Data that has a \"target\" variable that is disproportionately one (or more) classes when compared to the other classes that the target value could take. Ex: 900 - \"Yes\", 100 - \"No\"."
   ]
  },
  {
   "cell_type": "markdown",
   "id": "e4056035",
   "metadata": {},
   "source": [
    "<img src=\"Accuracy_example_pic.png\" width=\"800\"/>"
   ]
  },
  {
   "cell_type": "markdown",
   "id": "a18f593c",
   "metadata": {},
   "source": [
    "<b>Why does this matter?</b>\n",
    "- With accuracy being defined as: (Correct Predictions)/(Total Predictions) - if we do not take into account the imbalance and take our accuracy at face value, we would incorrectly assume that our model classifies 90% correct, when in actuality, the model may have simply predicted \"Yes\" on every single entry which, in this case, just so happens to serendipitously \"predict with 90% accuracy\".\n",
    "\n",
    "<b>What does this mean?</b>\n",
    "- Two important things to note here are:\n",
    "    - This would not generalize well if the newly introduced data consisted of a higher amount of \"No\" values.\n",
    "    - Accuracy doesn't always give the correct insight about your trained model."
   ]
  },
  {
   "cell_type": "markdown",
   "id": "62af5f85",
   "metadata": {},
   "source": [
    "-------------------------------------------------------"
   ]
  },
  {
   "cell_type": "markdown",
   "id": "62b375fc",
   "metadata": {},
   "source": [
    "<b>What are some of the different performance metrics?</b>\n",
    "- Accuracy:\n",
    "    - Percentage correct of prediction\n",
    "    - Correct prediction over total predictions\n",
    "    - One value for entire the network\n",
    "    \n",
    "- Precision:\n",
    "    - Exactness of model\n",
    "    - From the detected dogs, how many were actually dogs\n",
    "    - Each class/label has a value\n",
    "    \n",
    "- Recall:\n",
    "    - Percentage correct of prediction\n",
    "    - Correctly detected dogs over total dogs\n",
    "    - Each class/label has a value\n",
    "    \n",
    "- F1 Score:\n",
    "    - Percentage correct of prediction\n",
    "    - Harmonic mean of Precision and Recall\n",
    "    - Each class/label has a value"
   ]
  },
  {
   "cell_type": "markdown",
   "id": "923cf439",
   "metadata": {},
   "source": [
    "<img src=\"Performance_metrics_formulas_pic.png\" width=\"800\"/>"
   ]
  },
  {
   "cell_type": "markdown",
   "id": "cbe2f5b3",
   "metadata": {},
   "source": [
    "<b>Visual Example outlining metrics in action</b>\n",
    "\n",
    "<img src=\"Multi_class_metrics_examples_pic.png\" width=\"800\"/>"
   ]
  },
  {
   "cell_type": "markdown",
   "id": "3acfad46",
   "metadata": {},
   "source": [
    "--------"
   ]
  },
  {
   "cell_type": "markdown",
   "id": "a8cbc9b0",
   "metadata": {},
   "source": [
    "<b>What are some possible solutions to Imbalanced Data?</b>\n",
    "- Data Replication:\n",
    "    - Replicate the available data until the number of samples are comparable\n",
    "    \n",
    "<img src=\"Data_rep_pic.png\" width=\"800\"/>\n",
    "    \n",
    "- Synthetic Data: \n",
    "    - Images: Rotate, dilate, crop, add noise to existing input images and create new data\n",
    "    - SMOTE, which utilizes k-nearest neighbors, is one example of how someone would go about creating synthentc data.\n",
    "    \n",
    "<img src=\"Synthetic_data_pic.png\" width=\"800\"/>\n",
    "    \n",
    "- Modified Loss: \n",
    "    - Modify the loss to reflect greater error when misclassifying smaller sample set\n",
    "    \n",
    "<img src=\"Loss_mod_pic.png\" width=\"800\"/>\n",
    "    \n",
    "- Change the algorithm:\n",
    "    - Increase the model/algorithm complexity so that the two classes are perfectly separable (Con: Overfitting)\n",
    "    \n",
    "<img src=\"Change_the_algo_pic.png\" width=\"800\"/>"
   ]
  }
 ],
 "metadata": {
  "kernelspec": {
   "display_name": "Python 3",
   "language": "python",
   "name": "python3"
  },
  "language_info": {
   "codemirror_mode": {
    "name": "ipython",
    "version": 3
   },
   "file_extension": ".py",
   "mimetype": "text/x-python",
   "name": "python",
   "nbconvert_exporter": "python",
   "pygments_lexer": "ipython3",
   "version": "3.7.10"
  }
 },
 "nbformat": 4,
 "nbformat_minor": 5
}
