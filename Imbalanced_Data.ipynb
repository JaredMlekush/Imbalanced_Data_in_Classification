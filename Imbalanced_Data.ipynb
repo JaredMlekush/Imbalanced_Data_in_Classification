{
 "cells": [
  {
   "cell_type": "markdown",
   "id": "bed9ee6e",
   "metadata": {},
   "source": [
    "# Jared Mlekush"
   ]
  },
  {
   "cell_type": "markdown",
   "id": "817ad955",
   "metadata": {},
   "source": [
    "## <u>Imbalanced Data in Classification</u>"
   ]
  },
  {
   "cell_type": "markdown",
   "id": "e965b885",
   "metadata": {},
   "source": [
    "<b>What is Imbalanced Data?</b>\n",
    " - Data that has a \"target\" variable that is disproportionately one (or more) classes when compared to the other classes that the target value could take. Ex: 900 - \"Yes\", 100 - \"No\"."
   ]
  },
  {
   "cell_type": "markdown",
   "id": "c2a687dd",
   "metadata": {},
   "source": [
    "![image.png](Accuracy_example_pic.png)"
   ]
  },
  {
   "cell_type": "markdown",
   "id": "fa8a7b0a",
   "metadata": {},
   "source": [
    "<b>Why does this matter?</b>\n",
    "- With accuracy being defined as: (Correct Predictions)/(Total Predictions) - if we do not take into account the imbalance and take our accuracy at face value, we would incorrectly assume that our model classifies 90% correct, when in actuality, the model may have simply predicted \"Yes\" on every single entry which, in this case, just so happens to serendipitously \"predict with 90% accuracy\".\n",
    "\n",
    "<b>What does this mean?</b>\n",
    "- Two important things to note here are:\n",
    "    - This would not generalize well if the newly introduced data consisted of a higher amount of \"No\" values.\n",
    "    - Accuracy doesn't always give the correct insight about your trained model."
   ]
  },
  {
   "cell_type": "markdown",
   "id": "a415fd57",
   "metadata": {},
   "source": [
    "-------------------------------------------------------"
   ]
  },
  {
   "cell_type": "markdown",
   "id": "c540d546",
   "metadata": {},
   "source": [
    "<b>What are some of the different performance metrics?</b>\n",
    "- Accuracy:\n",
    "    - Percentage correct of prediction\n",
    "    - Correct prediction over total predictions\n",
    "    - One value for entire the network\n",
    "    \n",
    "- Precision:\n",
    "    - Exactness of model\n",
    "    - From the detected dogs, how many were actually dogs\n",
    "    - Each class/label has a value\n",
    "    \n",
    "- Recall:\n",
    "    - Percentage correct of prediction\n",
    "    - Correctly detected dogs over total dogs\n",
    "    - Each class/label has a value\n",
    "    \n",
    "- F1 Score:\n",
    "    - Percentage correct of prediction\n",
    "    - Harmonic mean of Precision and Recall\n",
    "    - Each class/label has a value"
   ]
  },
  {
   "cell_type": "markdown",
   "id": "14c27efa",
   "metadata": {},
   "source": [
    "![image.png](Performance_metrics_formulas_pic.png)"
   ]
  },
  {
   "cell_type": "markdown",
   "id": "999ce278",
   "metadata": {},
   "source": [
    "<b>Visual Example outlining metrics in action</b>\n",
    "\n",
    "![image.png](Multi_class_metrics_examples_pic.png)"
   ]
  },
  {
   "cell_type": "markdown",
   "id": "f51dd938",
   "metadata": {},
   "source": [
    "--------"
   ]
  },
  {
   "cell_type": "markdown",
   "id": "08f2c2ee",
   "metadata": {},
   "source": [
    "<b>What are some possible solutions to Imbalanced Data?</b>\n",
    "- Data Replication:\n",
    "    - Replicate the available data until the number of samples are comparable\n",
    "    \n",
    "![image.png](Data_rep_pic.png)\n",
    "    \n",
    "- Synthetic Data: \n",
    "    - Images: Rotate, dilate, crop, add noise to existing input images and create new data\n",
    "    - SMOTE, which utilizes k-nearest neighbors, is one example of how someone would go about creating synthentc data.\n",
    "    \n",
    "![image.png](Synthetic_data_pic.png)\n",
    "    \n",
    "- Modified Loss: \n",
    "    - Modify the loss to reflect greater error when misclassifying smaller sample set\n",
    "    \n",
    "![image.png](Loss_mod_pic.png)\n",
    "    \n",
    "- Change the algorithm:\n",
    "    - Increase the model/algorithm complexity so that the two classes are perfectly separable (Con: Overfitting)\n",
    "    \n",
    "![image.png](Change_the_algo_pic.png)"
   ]
  }
 ],
 "metadata": {
  "kernelspec": {
   "display_name": "Python 3",
   "language": "python",
   "name": "python3"
  },
  "language_info": {
   "codemirror_mode": {
    "name": "ipython",
    "version": 3
   },
   "file_extension": ".py",
   "mimetype": "text/x-python",
   "name": "python",
   "nbconvert_exporter": "python",
   "pygments_lexer": "ipython3",
   "version": "3.7.10"
  }
 },
 "nbformat": 4,
 "nbformat_minor": 5
}
